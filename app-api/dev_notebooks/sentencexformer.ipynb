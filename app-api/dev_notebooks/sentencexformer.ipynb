{
 "cells": [
  {
   "cell_type": "code",
   "execution_count": 1,
   "metadata": {},
   "outputs": [],
   "source": [
    "import pyparsing as pp\n",
    "import re\n",
    "import string\n",
    "import nltk\n",
    "from pyparsing import Word, alphas"
   ]
  },
  {
   "cell_type": "code",
   "execution_count": 21,
   "metadata": {},
   "outputs": [],
   "source": [
    "def get_lines(filepath='convo_1.txt'):\n",
    "    with open(filepath, 'r') as file:\n",
    "        convo = file.read()\n",
    "        convo_lines = [i for i in convo.split('\\n') if len(i) > 0]\n",
    "    return convo_lines"
   ]
  },
  {
   "cell_type": "code",
   "execution_count": 22,
   "metadata": {},
   "outputs": [],
   "source": [
    "ls = get_lines()"
   ]
  },
  {
   "cell_type": "code",
   "execution_count": 23,
   "metadata": {},
   "outputs": [
    {
     "data": {
      "text/plain": [
       "['BARTENDER',\n",
       " 'Many bargains at the Old China Hand. Everything eight credits.',\n",
       " 'JC DENTON',\n",
       " 'Heard the name Tracer Tong?',\n",
       " 'BARTENDER',\n",
       " 'Tong, yes... friend of the Luminous Path Triad. And, by extension, enemy of the',\n",
       " 'Red Arrow.',\n",
       " 'JC DENTON',\n",
       " \"What's his reputation... among the locals?\",\n",
       " 'BARTENDER',\n",
       " 'Shrewd, but fair. Very well-connected. You want to buy... biomechanical',\n",
       " 'augmentation?',\n",
       " 'JC DENTON',\n",
       " 'Just curious.',\n",
       " 'Is there a lot of crime in Hong Kong?',\n",
       " 'BARTENDER',\n",
       " \"Much more than before, yes. Now it's very easy for the smugglers.\",\n",
       " 'JC DENTON',\n",
       " 'What kind of smugglers?',\n",
       " 'BARTENDER',\n",
       " 'Slaves, heroin, biotech...',\n",
       " 'JC DENTON',\n",
       " 'Is there really a slave-trade?',\n",
       " 'BARTENDER',\n",
       " 'Oh, sure. Visit the Lucky Money underneath Wan Chai, the Red Arrow',\n",
       " 'headquarters... All of their girls, they are kidnapped in Thailand or the',\n",
       " 'Philippines. Not a pretty business.',\n",
       " 'JC DENTON',\n",
       " 'What sort of biotech smuggling goes on?',\n",
       " 'BARTENDER',\n",
       " 'Mostly VersaLife, the Golden Triangle of biotech.',\n",
       " 'JC DENTON',\n",
       " 'Why would a multinational corporation smuggle their products on sampans?',\n",
       " 'BARTENDER',\n",
       " 'Import restrictions in many places -- the United States, European countries...',\n",
       " 'JC DENTON',\n",
       " 'On what?',\n",
       " 'BARTENDER',\n",
       " 'Certain genetic advances... laboratory organisms. Also, tiny computers in your',\n",
       " 'tissue.',\n",
       " 'JC DENTON',\n",
       " \"What's VersaLife trying to develop?\",\n",
       " 'BARTENDER',\n",
       " 'Everything. The Second Men.',\n",
       " 'JC DENTON',\n",
       " 'The Second Men?',\n",
       " 'BARTENDER',\n",
       " 'English author. Olaf Stapledon. You have not read?',\n",
       " 'JC DENTON',\n",
       " 'Afraid not.',\n",
       " 'BARTENDER',\n",
       " 'Last and First Men. History of 19 species of human beings. I cannot believe you',\n",
       " 'do not know this book.',\n",
       " 'JC DENTON',\n",
       " \"I'm not big into books.\",\n",
       " 'Do you know of a Maggie Chow?',\n",
       " 'BARTENDER',\n",
       " 'Maggie Chow. A bad character. Before, she was an actress. Now she is everywhere',\n",
       " 'in Hong Kong politics. They say that she is a spy.',\n",
       " 'JC DENTON',\n",
       " 'Who does she spy for?',\n",
       " 'BARTENDER',\n",
       " 'No one knows. Somebody paid a lot of money once, and one of the Red Arrows ended',\n",
       " 'up floating in the canal. Dangerous to talk about.']"
      ]
     },
     "execution_count": 23,
     "metadata": {},
     "output_type": "execute_result"
    }
   ],
   "source": [
    "ls"
   ]
  },
  {
   "cell_type": "code",
   "execution_count": 17,
   "metadata": {},
   "outputs": [
    {
     "data": {
      "text/plain": [
       "['BARTENDER',\n",
       " 'Many bargains at the Old China Hand. Everything eight credits.',\n",
       " 'JC DENTON',\n",
       " 'Heard the name Tracer Tong?',\n",
       " 'BARTENDER',\n",
       " 'Tong, yes... friend of the Luminous Path Triad. And, by extension, enemy of the',\n",
       " 'Red Arrow.',\n",
       " 'JC DENTON',\n",
       " \"What's his reputation... among the locals?\",\n",
       " 'BARTENDER',\n",
       " 'Shrewd, but fair. Very well-connected. You want to buy... biomechanical',\n",
       " 'augmentation?',\n",
       " 'JC DENTON',\n",
       " 'Just curious.',\n",
       " 'Is there a lot of crime in Hong Kong?',\n",
       " 'BARTENDER',\n",
       " \"Much more than before, yes. Now it's very easy for the smugglers.\",\n",
       " 'JC DENTON',\n",
       " 'What kind of smugglers?',\n",
       " 'BARTENDER',\n",
       " 'Slaves, heroin, biotech...',\n",
       " 'JC DENTON',\n",
       " 'Is there really a slave-trade?',\n",
       " 'BARTENDER',\n",
       " 'Oh, sure. Visit the Lucky Money underneath Wan Chai, the Red Arrow',\n",
       " 'headquarters... All of their girls, they are kidnapped in Thailand or the',\n",
       " 'Philippines. Not a pretty business.',\n",
       " 'JC DENTON',\n",
       " 'What sort of biotech smuggling goes on?',\n",
       " 'BARTENDER',\n",
       " 'Mostly VersaLife, the Golden Triangle of biotech.',\n",
       " 'JC DENTON',\n",
       " 'Why would a multinational corporation smuggle their products on sampans?',\n",
       " 'BARTENDER',\n",
       " 'Import restrictions in many places -- the United States, European countries...',\n",
       " 'JC DENTON',\n",
       " 'On what?',\n",
       " 'BARTENDER',\n",
       " 'Certain genetic advances... laboratory organisms. Also, tiny computers in your',\n",
       " 'tissue.',\n",
       " 'JC DENTON',\n",
       " \"What's VersaLife trying to develop?\",\n",
       " 'BARTENDER',\n",
       " 'Everything. The Second Men.',\n",
       " 'JC DENTON',\n",
       " 'The Second Men?',\n",
       " 'BARTENDER',\n",
       " 'English author. Olaf Stapledon. You have not read?',\n",
       " 'JC DENTON',\n",
       " 'Afraid not.',\n",
       " 'BARTENDER',\n",
       " 'Last and First Men. History of 19 species of human beings. I cannot believe you',\n",
       " 'do not know this book.',\n",
       " 'JC DENTON',\n",
       " \"I'm not big into books.\",\n",
       " 'Do you know of a Maggie Chow?',\n",
       " 'BARTENDER',\n",
       " 'Maggie Chow. A bad character. Before, she was an actress. Now she is everywhere',\n",
       " 'in Hong Kong politics. They say that she is a spy.',\n",
       " 'JC DENTON',\n",
       " 'Who does she spy for?',\n",
       " 'BARTENDER',\n",
       " 'No one knows. Somebody paid a lot of money once, and one of the Red Arrows ended',\n",
       " 'up floating in the canal. Dangerous to talk about.']"
      ]
     },
     "execution_count": 17,
     "metadata": {},
     "output_type": "execute_result"
    }
   ],
   "source": [
    "[i for i in convo.split('\\n') if len(i) > 0]"
   ]
  },
  {
   "cell_type": "code",
   "execution_count": 8,
   "metadata": {},
   "outputs": [
    {
     "data": {
      "text/plain": [
       "ParseResults(['Many', 'bargains', 'at', 'the', 'Old', 'China', 'Hand', '.'], {})"
      ]
     },
     "execution_count": 8,
     "metadata": {},
     "output_type": "execute_result"
    }
   ],
   "source": [
    "# define grammar of a greeting\n",
    "pp.ParserElement.setDefaultWhitespaceChars(' \\t')\n",
    "l = pp.OneOrMore(pp.Word(pp.alphas)) + pp.Literal('.')\n",
    "\n",
    "l.parse_string(convo)"
   ]
  },
  {
   "cell_type": "code",
   "execution_count": null,
   "metadata": {},
   "outputs": [],
   "source": [
    "    log = Word(printables)\n",
    "    print(log)\n",
    "\n",
    "    log1 = Word(alphanums+\"-\")\n",
    "    print(log1)\n",
    "\n",
    "    log_display = (\"Starting Daily apt upgrade and clean \n",
    "    activities...\")\n",
    "    data = log.parseString(log_display)\n",
    "    print(data.dump())\n",
    "    print()"
   ]
  },
  {
   "cell_type": "code",
   "execution_count": null,
   "metadata": {},
   "outputs": [],
   "source": []
  }
 ],
 "metadata": {
  "kernelspec": {
   "display_name": ".venv",
   "language": "python",
   "name": "python3"
  },
  "language_info": {
   "codemirror_mode": {
    "name": "ipython",
    "version": 3
   },
   "file_extension": ".py",
   "mimetype": "text/x-python",
   "name": "python",
   "nbconvert_exporter": "python",
   "pygments_lexer": "ipython3",
   "version": "3.11.7"
  }
 },
 "nbformat": 4,
 "nbformat_minor": 2
}
